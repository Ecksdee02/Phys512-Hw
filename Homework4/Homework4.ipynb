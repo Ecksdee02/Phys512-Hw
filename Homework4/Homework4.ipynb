{
 "cells": [
  {
   "cell_type": "markdown",
   "id": "26f7db7c",
   "metadata": {},
   "source": [
    "### More on SVD"
   ]
  },
  {
   "cell_type": "markdown",
   "id": "97a43ad7",
   "metadata": {},
   "source": [
    "To start, we have\n",
    "\n",
    "\\begin{equation}\n",
    "    A = USV^T\n",
    "\\end{equation}\n",
    "\n",
    "where $S$ is the diagonal matrix containing the singular values of $A$, and $U$ and $V$ are orthogonal matrices.\n",
    "\n",
    "Let the rank of matrix $A$ be $n$. Then $U$ is composed of $n$ column vectors $u_\\alpha$, and $V^T$ is composed of $n$ row vectors $v_\\alpha^T$. Since $S$ is a diagonal matrix, we can write it as a sum of $n$ matrices $S_\\alpha$, where each $S_\\alpha$ has only one non-zero entry $s_\\alpha$. Substituting into the equation above, we get\n",
    "\n",
    "\\begin{equation}\n",
    "    A = US_1V^T + US_2V^T + ...  +US_nV^T.\n",
    "\\end{equation}\n",
    "\n",
    "Since each term is product of matrices involving $S_\\alpha$ with only one non-zero entry, we can replace $U$ with its column vector $u_\\alpha$, $V^T$ with its row vector $v_\\alpha^T$ and $S_\\alpha$ with the singular value $s_\\alpha$. We get\n",
    "\n",
    "\\begin{equation}\n",
    "    A = u_1s_1v_1^T + u_2s_2v_2^T + ...  +u_ns_nv_n^T.\n",
    "\\end{equation}\n",
    "\n",
    "Hence, \n",
    "\n",
    "\\begin{equation}\n",
    "    A = \\sum_{\\alpha} s_\\alpha u_\\alpha v_\\alpha^T.\n",
    "\\end{equation}\n"
   ]
  },
  {
   "cell_type": "code",
   "execution_count": null,
   "id": "3af2fb85",
   "metadata": {},
   "outputs": [],
   "source": []
  }
 ],
 "metadata": {
  "kernelspec": {
   "display_name": "Python 3 (ipykernel)",
   "language": "python",
   "name": "python3"
  },
  "language_info": {
   "codemirror_mode": {
    "name": "ipython",
    "version": 3
   },
   "file_extension": ".py",
   "mimetype": "text/x-python",
   "name": "python",
   "nbconvert_exporter": "python",
   "pygments_lexer": "ipython3",
   "version": "3.9.13"
  }
 },
 "nbformat": 4,
 "nbformat_minor": 5
}
