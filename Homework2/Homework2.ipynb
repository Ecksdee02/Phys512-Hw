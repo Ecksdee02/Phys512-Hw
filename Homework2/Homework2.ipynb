{
 "cells": [
  {
   "cell_type": "markdown",
   "id": "ce49c12b",
   "metadata": {},
   "source": [
    "## Integration Errors"
   ]
  },
  {
   "cell_type": "markdown",
   "id": "6e425c18",
   "metadata": {},
   "source": [
    "The trapezoidal rule scales $\\propto (\\Delta x)^2$ because we only use a linear approximation to the function $f(x)$. The higher order terms that constitute the error are dropped off. As $\\Delta x$ becomes increasingly small, the error becomes proportional to $(\\Delta x)^2$. $(\\Delta x)^3$ and higher order terms have little contribution to the error.\n",
    "\n",
    "Similarly, Simpson's rule uses a polynomial approximation to the quadratic term. However, we use the double interval $x_{i-1}<x<x_{i+1}$, and the odd terms do not contribute to the integral due to their antisymmetric shape about $x_i$. Therefore, the error is dominated by the quartic term and scales with $(\\Delta x)^4$."
   ]
  },
  {
   "cell_type": "code",
   "execution_count": null,
   "id": "3a515d9b",
   "metadata": {},
   "outputs": [],
   "source": []
  }
 ],
 "metadata": {
  "kernelspec": {
   "display_name": "Python 3 (ipykernel)",
   "language": "python",
   "name": "python3"
  },
  "language_info": {
   "codemirror_mode": {
    "name": "ipython",
    "version": 3
   },
   "file_extension": ".py",
   "mimetype": "text/x-python",
   "name": "python",
   "nbconvert_exporter": "python",
   "pygments_lexer": "ipython3",
   "version": "3.9.13"
  }
 },
 "nbformat": 4,
 "nbformat_minor": 5
}
