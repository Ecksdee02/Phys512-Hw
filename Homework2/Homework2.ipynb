{
 "cells": [
  {
   "cell_type": "markdown",
   "id": "ce49c12b",
   "metadata": {},
   "source": [
    "## Integration Errors"
   ]
  },
  {
   "cell_type": "markdown",
   "id": "6e425c18",
   "metadata": {},
   "source": [
    "(a)\n",
    "\n",
    "The trapezoidal rule scales $\\propto (\\Delta x)^2$ because we only use a linear approximation to the function $f(x)$. The higher order terms that constitute the error are dropped off. As $\\Delta x$ becomes increasingly small, the error becomes proportional to $(\\Delta x)^2$. $(\\Delta x)^3$ and higher order terms have little contribution to the error.\n",
    "\n",
    "Similarly, Simpson's rule uses a polynomial approximation to the quadratic term. However, we use the double interval $x_{i-1}<x<x_{i+1}$, and the odd terms do not contribute to the integral due to their antisymmetric shape about $x_i$. Therefore, the error is dominated by the quartic term and scales with $(\\Delta x)^4$."
   ]
  },
  {
   "cell_type": "markdown",
   "id": "75bbe35f",
   "metadata": {},
   "source": [
    "(b)\n",
    "\n",
    "Let $I_1$ be the value of the integral with spacing $\\Delta x$ and $I_2$ be the value of the integral with spacing $2\\Delta x$. Let $\\epsilon_1$ be the error associated with $I_1$ and $\\epsilon_2$ be the error associated with $I_2$.\n",
    "Then $I_1 + \\epsilon_1 = I_2 + \\epsilon_2$.\n",
    "\n",
    "For the trapezoidal rule, we know that the error scales with $(\\Delta x)^2$. Therefore, we get that $\\epsilon_1 \\propto (\\Delta x)^2$ and $\\epsilon_2 \\propto 4(\\Delta x)^2$. The equation then becomes:\n",
    "\n",
    "\\begin{equation}\n",
    "    I_1 + (\\Delta x)^2 \\approx I_2 + 4(\\Delta x)^2\n",
    "\\end{equation}\n",
    "\n",
    "We can then isolate $(\\Delta x)^2$ and replace it back with $\\epsilon_1$ to get:\n",
    "\n",
    "\\begin{equation}\n",
    "    \\epsilon_1 \\approx \\frac{I_1 - I_2}{3}\n",
    "\\end{equation}\n",
    "\n",
    "For Simpson's rule, we can use the same approach. This time, $\\epsilon_1 \\propto (\\Delta x)^4$ and $\\epsilon_2 \\propto 16(\\Delta x)^2$. The equation becomes:\n",
    "\n",
    "\\begin{equation}\n",
    "    I_1 + 4(\\Delta x)^2 \\approx I_2 + 16(\\Delta x)^2\n",
    "\\end{equation}\n",
    "\n",
    "And we get that:\n",
    "\n",
    "\\begin{equation}\n",
    "    \\epsilon_1 \\approx \\frac{I_1 - I_2}{15}\n",
    "\\end{equation}"
   ]
  },
  {
   "cell_type": "code",
   "execution_count": 5,
   "id": "e77713cf",
   "metadata": {},
   "outputs": [],
   "source": [
    "import numpy as np\n",
    "import matplotlib.pyplot as plt"
   ]
  },
  {
   "cell_type": "code",
   "execution_count": 7,
   "id": "76c59643",
   "metadata": {},
   "outputs": [
    {
     "name": "stdout",
     "output_type": "stream",
     "text": [
      "Expected error scaling using trapezoidal rule:  0.0025000000000000005\n",
      "Error using trapezoidal rule:  0.0006157881000476984\n",
      "Expected error scaling using Simpson's rule:  6.250000000000001e-06\n",
      "Error using Simpson's rule:  4.379908454336482e-06\n"
     ]
    },
    {
     "data": {
      "text/plain": [
       "[<matplotlib.lines.Line2D at 0x19bd62bfd00>]"
      ]
     },
     "execution_count": 7,
     "metadata": {},
     "output_type": "execute_result"
    },
    {
     "data": {
      "image/png": "[encoded data removed]",
      "text/plain": [
       "<Figure size 640x480 with 1 Axes>"
      ]
     },
     "metadata": {},
     "output_type": "display_data"
    }
   ],
   "source": [
    "# (c)\n",
    "\n",
    "# Load data into numpy array\n",
    "data = np.loadtxt(\"hw2_data.txt\", dtype='float').transpose()\n",
    "x = data[0]\n",
    "x2 = x[::2]\n",
    "y = data[1]\n",
    "y2 = y[::2]\n",
    "\n",
    "# Trapezoidal rule\n",
    "dx = (x[-1] - x[0])/(len(x)-1)\n",
    "dx2 = (x2[-1] - x2[0])/(len(x2)-1)\n",
    "I1t = (np.sum(y[1:-1]) + (y[0] + y[-1])/2) * dx\n",
    "I2t = (np.sum(y2[1:-1]) + (y2[0] + y2[-1])/2) * dx2\n",
    "e_trap = (I1t - I2t) / 3\n",
    "print(\"Expected error scaling using trapezoidal rule: \", dx**2)\n",
    "print(\"Error using trapezoidal rule: \", e_trap)\n",
    "\n",
    "# Simpson's rule\n",
    "I1s = (np.sum(4*y[1:-1:2]) + np.sum(2*y[2:-2:2]) + y[0] + y[-1]) * dx / 3\n",
    "I2s = (np.sum(4*y2[1:-1:2]) + np.sum(2*y2[2:-2:2]) + y2[0] + y2[-1]) * dx2 / 3\n",
    "e_simp = (I1s - I2s) / 15\n",
    "print(\"Expected error scaling using Simpson's rule: \", dx**4)\n",
    "print(\"Error using Simpson's rule: \", e_simp)\n",
    "\n",
    "plt.plot(x, y)"
   ]
  },
  {
   "cell_type": "markdown",
   "id": "75c0d142",
   "metadata": {},
   "source": [
    "It is hard to determine whether the error makes sense by simply looking at the numbers. After all, we only calculated the error for one stepsize for each method, and it does not tell us about the scaling. The error using the trapezoidal method is about 4 times smaller than the expected scaling, and the error using Simpson's method is of the same magnitude as the expected scaling.\n",
    "\n",
    "However, we can get some intuition by looking at the plot. We can notice that for the most part, the function does not have huge variations in the slope. With the derivative being roughly constant, the trapezoidal rule is a very good approximation, which explains why the error is much smaller than expected. Therefore, we can conclude that the error does make sense."
   ]
  },
  {
   "cell_type": "code",
   "execution_count": 11,
   "id": "e8c7aaad",
   "metadata": {},
   "outputs": [
    {
     "name": "stdout",
     "output_type": "stream",
     "text": [
      "The trapezoidal rule has 0.6177070452126326 % error\n",
      "The Simpson's rule has 14.435349183408391 % error\n"
     ]
    }
   ],
   "source": [
    "# (d)\n",
    "\n",
    "I = 1.482974344768713\n",
    "true_etrap = I - I1t\n",
    "true_esimp = I - I1s\n",
    "\n",
    "# Calculate the fractional error\n",
    "f_trap = abs((true_etrap - e_trap) / true_etrap)*100\n",
    "f_simp = abs((true_esimp - e_simp) / true_esimp)*100\n",
    "\n",
    "print(\"The trapezoidal rule has\", f_trap, \"% error\")\n",
    "print(\"The Simpson's rule has\", f_simp, \"% error\")"
   ]
  },
  {
   "cell_type": "markdown",
   "id": "4deb9ae6",
   "metadata": {},
   "source": [
    "The error estimation for the trapezoidal rule has a 0.62% difference with the true error, and the estimation for Simpson's rule has a 14.44% difference. The estimate procedure does a good job, especially the trapezoidal rule for this particular function."
   ]
  },
  {
   "cell_type": "markdown",
   "id": "eb746add",
   "metadata": {},
   "source": [
    "## Chemical Potential of a Fermi Gas\n"
   ]
  },
  {
   "cell_type": "code",
   "execution_count": null,
   "id": "c823fc0c",
   "metadata": {},
   "outputs": [],
   "source": [
    "# Define constants\n"
   ]
  }
 ],
 "metadata": {
  "kernelspec": {
   "display_name": "Python 3 (ipykernel)",
   "language": "python",
   "name": "python3"
  },
  "language_info": {
   "codemirror_mode": {
    "name": "ipython",
    "version": 3
   },
   "file_extension": ".py",
   "mimetype": "text/x-python",
   "name": "python",
   "nbconvert_exporter": "python",
   "pygments_lexer": "ipython3",
   "version": "3.9.13"
  }
 },
 "nbformat": 4,
 "nbformat_minor": 5
}
