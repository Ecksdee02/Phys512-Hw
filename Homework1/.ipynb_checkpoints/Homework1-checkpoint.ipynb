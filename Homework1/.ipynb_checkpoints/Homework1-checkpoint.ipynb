{
 "cells": [
  {
   "cell_type": "markdown",
   "id": "af4c614f",
   "metadata": {},
   "source": [
    "## Roundoff error in long term integrations of planetary orbits"
   ]
  },
  {
   "cell_type": "code",
   "execution_count": 2,
   "id": "ff71c4b5",
   "metadata": {},
   "outputs": [],
   "source": [
    "import numpy as np\n",
    "import matplotlib.pyplot as plt\n",
    "%matplotlib inline"
   ]
  },
  {
   "cell_type": "code",
   "execution_count": 3,
   "id": "29660d5d",
   "metadata": {},
   "outputs": [],
   "source": [
    "# Useful constants\n",
    "GM_Sun = 1.3271 * 10**20\n",
    "Earth_Sun = 1.496 * 10**11 # Distance Earth-Sun in meters"
   ]
  },
  {
   "cell_type": "markdown",
   "id": "536d1950",
   "metadata": {},
   "source": [
    "Assuming a circular orbit, we can use $F=ma$ to derive the initial velocity. Let the Sun be at the origin, and the Earth be at $\\theta$ = 0 with a completely upward velocity. The distance Earth-Sun is set to 1AU."
   ]
  },
  {
   "cell_type": "code",
   "execution_count": 61,
   "id": "48dde09e",
   "metadata": {},
   "outputs": [
    {
     "data": {
      "text/plain": [
       "[<matplotlib.lines.Line2D at 0x17141c054f0>]"
      ]
     },
     "execution_count": 61,
     "metadata": {},
     "output_type": "execute_result"
    },
    {
     "data": {
      "image/png": "[encoded data removed]",
      "text/plain": [
       "<Figure size 640x480 with 1 Axes>"
      ]
     },
     "metadata": {},
     "output_type": "display_data"
    }
   ],
   "source": [
    "theta = np.linspace(0, 2*np.pi, 100)\n",
    "dt = 2*np.pi/100\n",
    "x = [Earth_Sun]\n",
    "y = [0]\n",
    "vx = [0]\n",
    "vy = [(GM_Sun/Earth_Sun)**5]\n",
    "ax = []\n",
    "ay = []\n",
    "\n",
    "for t in theta:\n",
    "    ax.append(-GM_Sun/Earth_Sun**2 * np.cos(t))\n",
    "    ay.append(-GM_Sun/Earth_Sun**2 * np.sin(t))\n",
    "    vx.append(vx[-1] + ax[-1]*dt)\n",
    "    vy.append(vy[-1] + ay[-1]*dt)\n",
    "    x.append(x[-1] + vx[-1]*dt)\n",
    "    y.append(y[-1] + vy[-1]*dt)\n",
    "\n",
    "plt.plot(theta, x[:-1], 'o')"
   ]
  },
  {
   "cell_type": "markdown",
   "id": "4e2b2ad6",
   "metadata": {},
   "source": [
    "## Interpolation and Thermodynamics"
   ]
  },
  {
   "cell_type": "code",
   "execution_count": 38,
   "id": "ffcf5e1d",
   "metadata": {},
   "outputs": [],
   "source": [
    "import scipy.interpolate"
   ]
  },
  {
   "cell_type": "code",
   "execution_count": 45,
   "id": "83d1d592",
   "metadata": {},
   "outputs": [],
   "source": [
    "sample_d = np.linspace(10**-6, 1, 10)\n",
    "sample_t = np.linspace(100, 1000, 10)\n",
    "m = 28\n",
    "kb = 1.380649 * 10**-23\n",
    "h_bar = 1.054571817 * 10**-34"
   ]
  },
  {
   "cell_type": "code",
   "execution_count": 58,
   "id": "6002e396",
   "metadata": {},
   "outputs": [
    {
     "name": "stdout",
     "output_type": "stream",
     "text": [
      "[4.93088929e-29 8.21814881e-29 1.31490381e-28 1.97235571e-28\n",
      " 2.46544464e-28 2.95853357e-28 3.45162250e-28 4.10907440e-28\n",
      " 4.60216333e-28 4.93088929e-28 3.65255624e-24 6.08759373e-24\n",
      " 9.74014997e-24 1.46102250e-23 1.82627812e-23 2.19153374e-23\n",
      " 2.55678937e-23 3.04379687e-23 3.40905249e-23 3.65255624e-23\n",
      " 9.13131663e-24 1.52188611e-23 2.43501777e-23 3.65252665e-23\n",
      " 4.56565832e-23 5.47878998e-23 6.39192164e-23 7.60943053e-23\n",
      " 8.52256219e-23 9.13131663e-23 1.64363305e-23 2.73938842e-23\n",
      " 4.38302146e-23 6.57453220e-23 8.21816525e-23 9.86179829e-23\n",
      " 1.15054313e-22 1.36969421e-22 1.53405751e-22 1.64363305e-22\n",
      " 2.19150909e-23 3.65251515e-23 5.84402424e-23 8.76603635e-23\n",
      " 1.09575454e-22 1.31490545e-22 1.53405636e-22 1.82625757e-22\n",
      " 2.04540848e-22 2.19150909e-22 2.73938513e-23 4.56564188e-23\n",
      " 7.30502701e-23 1.09575405e-22 1.36969256e-22 1.64363108e-22\n",
      " 1.91756959e-22 2.28282094e-22 2.55675945e-22 2.73938513e-22\n",
      " 3.28726117e-23 5.47876861e-23 8.76602978e-23 1.31490447e-22\n",
      " 1.64363058e-22 1.97235670e-22 2.30108282e-22 2.73938431e-22\n",
      " 3.06811042e-22 3.28726117e-22 4.01776255e-23 6.69627092e-23\n",
      " 1.07140335e-22 1.60710502e-22 2.00888128e-22 2.41065753e-22\n",
      " 2.81243379e-22 3.34813546e-22 3.74991172e-22 4.01776255e-22\n",
      " 4.56563859e-23 7.60939765e-23 1.21750362e-22 1.82625544e-22\n",
      " 2.28281930e-22 2.73938316e-22 3.19594701e-22 3.80469883e-22\n",
      " 4.26126269e-22 4.56563859e-22 4.93088929e-23 8.21814881e-23\n",
      " 1.31490381e-22 1.97235571e-22 2.46544464e-22 2.95853357e-22\n",
      " 3.45162250e-22 4.10907440e-22 4.60216333e-22 4.93088929e-22]\n"
     ]
    }
   ],
   "source": [
    "def n(density):\n",
    "    return density/28\n",
    "\n",
    "def nq(temperature):\n",
    "    return (m * kb * temperature/(2*np.pi*h_bar**2))**1.5\n",
    "\n",
    "def pressure(density, temperature):\n",
    "    res = []\n",
    "    for d in density:\n",
    "        res.append(n(d) * kb * temperature)\n",
    "    return res\n",
    "\n",
    "def entropy(density, temperature):\n",
    "    res = []\n",
    "    for d in density:\n",
    "        res.append(5/2 - np.log(n(d)/nq(temperature)))\n",
    "    return res\n",
    "\n",
    "fp = scipy.interpolate.RectBivariateSpline(sample_d, sample_t, pressure(sample_d, sample_t))\n",
    "print(fp.get_coeffs())\n",
    "\n",
    "# print(pressure(sample_d, sample_t))\n",
    "# print(entropy(sample_d, sample_t))"
   ]
  },
  {
   "cell_type": "code",
   "execution_count": null,
   "id": "16aa5e11",
   "metadata": {},
   "outputs": [],
   "source": []
  }
 ],
 "metadata": {
  "kernelspec": {
   "display_name": "Python 3 (ipykernel)",
   "language": "python",
   "name": "python3"
  },
  "language_info": {
   "codemirror_mode": {
    "name": "ipython",
    "version": 3
   },
   "file_extension": ".py",
   "mimetype": "text/x-python",
   "name": "python",
   "nbconvert_exporter": "python",
   "pygments_lexer": "ipython3",
   "version": "3.9.13"
  }
 },
 "nbformat": 4,
 "nbformat_minor": 5
}
